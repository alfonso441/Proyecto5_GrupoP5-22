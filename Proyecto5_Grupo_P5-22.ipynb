{
 "cells": [
  {
   "cell_type": "markdown",
   "metadata": {},
   "source": [
    "---\n",
    "### Universidad de Costa Rica\n",
    "#### IE0405 - Modelos Probabilísticos de Señales y Sistemas\n",
    "---\n",
    "\n",
    "Primer semestre del 2021\n",
    "\n",
    "---\n",
    "* **Subgrupo P5-22**\n",
    "\n",
    "* Estudiante: **Alfonso Castillo Orozco**\n",
    "* Carné: **B41546**\n",
    "* Grupo: **2**\n",
    "\n",
    "* Estudiante: **Jean Paul González Benavides**\n",
    "* Carné: **B83381**\n",
    "* Grupo: **2**\n",
    "\n",
    "* Estudiante: **Laura Mata Mata**\n",
    "* Carné: **B84689**\n",
    "* Grupo: **1**\n",
    "\n",
    "---\n",
    "# `Proyecto 5` - *Procesos M/M/s*\n",
    "---"
   ]
  },
  {
   "cell_type": "markdown",
   "metadata": {},
   "source": [
    "Es menester tomar una decisión con respecto al número de \"servidores\" necesarios para cierto proceso de vacunación, de forma tal que el sistema no exceda 100 personas en fila durante el 95% del tiempo de servicio. \n",
    "\n",
    "En un estudio de afluencia y del tiempo de servicio se asumen y determinan los siguientes parámetros:\n",
    "\n",
    "- La tasa de llegada $\\lambda$ es constante durante ocho horas de funcionamiento y tiene un valor de $\\lambda = 7$ personas por minuto.\n",
    "\n",
    "- La tasa de servicio $\\nu$ de cada \"servidor\" (es decir, personal de salud tomando datos y vacunando) es constante durante ocho horas de funcionamiento y tiene un valor de $\\nu = 0.25$ personas por minuto.\n",
    "\n",
    "### Parte 1 (40%):\n",
    "\n",
    ">Hacer la determinación teórica del número $s$ de servidores necesarios para cumplir el requisito.\n",
    "\n",
    "#### Solución:\n",
    "\n",
    "Del enunciado, se dan los siguientes datos:\n",
    "\n",
    "* El sistema no exceda 100 personas en fila durante el 95\\% del tiempo del servicio.\n",
    "* La tasa de llegada es  $\\lambda=7$ personas por minuto y se mantiene constante durante 8 horas de funcionamiento.\n",
    "* La tasa de servicio es $\\nu=0.25$ personas por minuto y se mantiene constante durante 8 horas de funcionamiento.\n",
    "\n",
    "\n",
    "La ecuación para calcular $\\rho$ es la siguiente:\n",
    "\\begin{equation}\n",
    "    \\rho=\\frac{\\lambda}{s\\cdot \\nu}\n",
    "\\end{equation}\n",
    "\n",
    "Ahora sustituyendo valores:\n",
    "\\begin{equation}\n",
    "    \\rho=\\frac{7}{s\\cdot 0.25}=\\frac{28}{s}\n",
    "    \\label{1}\n",
    "\\end{equation}\n",
    "\n",
    "Ahora, se va a partir de la suma de probabilidades del estado estable dado por el enunciado, y se va a considerar la condición de ruptura menor:\n",
    "\n",
    "\\begin{equation}\n",
    "    P(\\text{101 personas o más en la fila}1) = \\sum_{i=101}^{\\infty} (1 - \\rho)\\rho^{i}= 1 - \\sum_{i=0}^{100} (1 - \\rho)\\rho^{i} = \\rho^{101}\n",
    "\\end{equation}\n",
    "\n",
    "Hay que recordar que, como hay un 95\\% de que se mantenga una fila de 100 personas, hay un 5\\% de que genera la condición de ruptura. Por lo que:\n",
    "\n",
    "\\begin{equation}\n",
    " \\rho^{101}\\leq 0.05\n",
    " \\label{2}\n",
    "\\end{equation}\n",
    "\n",
    "Sustituyendo el valor de $\\rho$:\n",
    "\\begin{equation}\n",
    "  \\left(\\frac{28}{s} \\right)^{101}\\leq 0.05  \n",
    "\\end{equation}\n",
    "\n",
    "Ahora, se procede a despejar s:\n",
    "\\begin{equation*}\n",
    " \\Longrightarrow  \\left(\\frac{28^{101}}{s^{101}} \\right)\\leq 0.05  \n",
    "\\end{equation*}\n",
    "\n",
    "\\begin{equation*}\n",
    "  \\Longrightarrow \\left(\\frac{28^{101}}{0.05} \\right)\\leq   s^{101}\n",
    "\\end{equation*}\n",
    "\n",
    "\\begin{equation*}\n",
    " \\Longrightarrow  \\left(\\frac{28^{101}}{0.05} \\right)\\leq   s^{101}\n",
    "\\end{equation*}\n",
    "\n",
    "\\begin{equation*}\n",
    " \\Longrightarrow \\sqrt[101]{ \\left(\\frac{28^{101}}{0.05} \\right)}\\leq   s\n",
    "\\end{equation*}\n",
    "\n",
    "\\begin{equation*}\n",
    " \\Longrightarrow 28\\cdot\\sqrt[101]{ \\left(\\frac{1}{0.05} \\right)}\\leq   s\n",
    "\\end{equation*}\n",
    "\n",
    "\\begin{equation}\n",
    " \\Longrightarrow 28.843\\leq   s\n",
    "\\end{equation}\n",
    " \n",
    " Por lo que, el número de servidores debe tener al menos 29 para se cumpla la condición del enunciado, que es mantener menos de 100 personas en la cola en 95\% del tiempo."
   ]
  },
  {
   "cell_type": "markdown",
   "metadata": {},
   "source": [
    "### Parte 2 (60%):\n",
    "\n",
    ">Modificar el código provisto para simular y corroborar el resultado anterior y crear al menos dos gráficas que muestren esta simulación.\n",
    "\n",
    "#### Solución:\n",
    "\n",
    "Primero se crea una función adaptando el código original, para **comprobar** que se tienen 100 o menos solicitudes el 95% o más del tiempo."
   ]
  },
  {
   "cell_type": "code",
   "execution_count": 172,
   "metadata": {},
   "outputs": [],
   "source": [
    "import numpy as np\n",
    "from scipy import stats\n",
    "import matplotlib.pyplot as plt\n",
    "\n",
    "def comprobacion(Simu, N, lam, nu, s):\n",
    "    '''Comprobación que se cumplen lo requerimientos.\n",
    "    - Simu: Número de simulación\n",
    "    - N:    Número de clientes\n",
    "    - lam:  Parámetro de llegada (clientes/segundos)\n",
    "    - nu:   Parámetro de servicio (servicios/segundos)\n",
    "    - s:    Número de servidores\n",
    "    '''\n",
    "    \n",
    "    # Distribución de los tiempos de llegada entre cada cliente\n",
    "    X = stats.expon(scale = 1/lam)\n",
    "\n",
    "    # Distribución de los tiempos de servicio a cada cliente\n",
    "    Y = stats.expon(scale = 1/(s*nu))\n",
    "\n",
    "    # Intervalos entre llegadas (segundos desde último cliente)\n",
    "    t_intervalos = np.ceil(X.rvs(N)).astype('int')\n",
    "\n",
    "    # Tiempos de las llegadas (segundos desde el inicio)\n",
    "    t_llegadas = [t_intervalos[0]]\n",
    "    for i in range(1, len(t_intervalos)):\n",
    "        siguiente = t_llegadas[i-1] + t_intervalos[i]\n",
    "        t_llegadas.append(siguiente)\n",
    "\n",
    "    # Tiempos de servicio (segundos desde inicio de servicio)\n",
    "    t_servicio = np.ceil(Y.rvs(N)).astype('int')\n",
    "\n",
    "    # Inicialización del tiempo de inicio y fin de atención\n",
    "    inicio = t_llegadas[0]          # primera llegada\n",
    "    fin = inicio + t_servicio[0]    # primera salida\n",
    "\n",
    "    # Tiempos en que recibe atención cada i-ésimo cliente (!= que llega)\n",
    "    t_atencion = [inicio]\n",
    "    for i in range(1, N):\n",
    "        inicio = np.max((t_llegadas[i], fin))\n",
    "        fin = inicio + t_servicio[i]\n",
    "        t_atencion.append(inicio)\n",
    "\n",
    "    # Inicialización del vector temporal para registrar eventos\n",
    "    t = np.zeros(t_atencion[-1] + t_servicio[-1] + 1)\n",
    "\n",
    "    # Asignación de eventos de llegada (+1) y salida (-1) de clientes\n",
    "    for c in range(N):\n",
    "        i = t_llegadas[c]\n",
    "        t[i] += 1\n",
    "        j = t_atencion[c] + t_servicio[c]\n",
    "        t[j] -= 1\n",
    "\n",
    "    # Umbral de P o más personas en sistema (hay P - 1 en fila)\n",
    "    P = 100\n",
    "\n",
    "    # Instantes (segundos) de tiempo con P o menos solicitudes en sistema\n",
    "    dentro_del_rango = 0\n",
    "\n",
    "    # Proceso aleatorio (estados n = {0, 1, 2...})\n",
    "    Xt = np.zeros(t.shape)\n",
    "\n",
    "    # Inicialización de estado n\n",
    "    n = 0\n",
    "\n",
    "    # Recorrido del vector temporal y conteo de clientes (estado n)\n",
    "    for i, c in enumerate(t):\n",
    "        n += c # sumar (+1) o restar (-1) al estado\n",
    "        Xt[i] = n\n",
    "        if Xt[i] <= P: \n",
    "            dentro_del_rango += 1\n",
    "\n",
    "    # Fracción de tiempo con P o menos solicitudes en sistema\n",
    "    fraccion = dentro_del_rango / len(t)\n",
    "\n",
    "    # Resultados\n",
    "    # Imprime número de simulación\n",
    "    print('***************************Simulación {}***********************'.format(Simu))\n",
    "    print('Parámetro lambda =', str(lam*60))\n",
    "    print('Parámetro nu =', str(nu*60))\n",
    "    print('Servidores s =', str(s))\n",
    "    print('Tiempo con igual o menor a {} solicitudes en fila:'.format(P))\n",
    "    print('\\t {:0.2f}%'.format(100*fraccion))\n",
    "    if fraccion >= 0.95:\n",
    "        print('\\t Sí cumple con la especificación.')\n",
    "    else:\n",
    "        print('\\t No cumple con la especificación.') \n",
    "    print('Simulación es equivalente a {:0.2f} horas.'.format(len(t)/3600))\n",
    "    \n",
    "    # Gráfica de X(t) (estados del sistema)\n",
    "    plt.figure()\n",
    "    plt.plot(Xt)\n",
    "    plt.plot(range(len(t)), (P)*np.ones(t.shape))\n",
    "    plt.legend(('$X(t) = n$', '$L_q = $' + str(P)))\n",
    "    plt.title('Simulación {}: Comprobación de solicitudes con {} Servidores'.format(Simu, s))\n",
    "    plt.ylabel('Clientes en el sistema, $n$')\n",
    "    plt.xlabel('Tiempo, $t$ / segundos')\n",
    "    # Eje X: se trunca en 15000 segundos, pero son más\n",
    "    # Visualmente puede no coincidir el porcentaje bajo 100 debido a que se truncan estos datos\n",
    "    plt.xlim((0, 15000)) \n",
    "    plt.show()"
   ]
  },
  {
   "cell_type": "markdown",
   "metadata": {},
   "source": [
    "Se inicializan las variables dadas en la **Parte 1**, recordando que se obtuvo que para que el sistema no exceda 100 personas en la fila durante el 95% del tiempo de servicio se debe tener un total de servidores de $s \\geq 29$."
   ]
  },
  {
   "cell_type": "code",
   "execution_count": 174,
   "metadata": {},
   "outputs": [],
   "source": [
    "# Número de clientes\n",
    "N = 1900\n",
    "\n",
    "# Parámetro de llegada (clientes/segundos)\n",
    "lam = 7/60\n",
    "\n",
    "# Parámetro de servicio (servicios/segundos)\n",
    "nu = 0.25/60"
   ]
  },
  {
   "cell_type": "markdown",
   "metadata": {},
   "source": [
    "Para tener éxito (cumplir los requerimientos) se debe cumplir $s \\geq 29$.\n",
    "\n",
    "##### **Simulación 1: Éxito**  \n",
    "\n",
    "Servidores $s = 29$."
   ]
  },
  {
   "cell_type": "code",
   "execution_count": 175,
   "metadata": {},
   "outputs": [
    {
     "name": "stdout",
     "output_type": "stream",
     "text": [
      "***************************Simulación 1***********************\n",
      "Parámetro lambda = 7.0\n",
      "Parámetro nu = 0.25\n",
      "Servidores s = 29\n",
      "Tiempo con igual o menor a 100 solicitudes en fila:\n",
      "\t 100.00%\n",
      "\t Sí cumple con la especificación.\n",
      "Simulación es equivalente a 4.95 horas.\n"
     ]
    },
    {
     "data": {
      "image/png": "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\n",
      "text/plain": [
       "<Figure size 432x288 with 1 Axes>"
      ]
     },
     "metadata": {
      "needs_background": "light"
     },
     "output_type": "display_data"
    }
   ],
   "source": [
    "# Número de simulación\n",
    "Simu = 1\n",
    "\n",
    "# Número de servidores obtenidos teóricamente para cumplir requerimientos\n",
    "s = 29\n",
    "\n",
    "# Se simula y comprueba resultado teórico\n",
    "comprobacion(Simu, N, lam, nu, s)"
   ]
  },
  {
   "cell_type": "markdown",
   "metadata": {},
   "source": [
    "Para tener éxito (cumplir los requerimientos) se debe cumplir $s \\geq 29$.\n",
    "\n",
    "##### **Simulación 2: Éxito**  \n",
    "\n",
    "Servidores $s = 50$."
   ]
  },
  {
   "cell_type": "code",
   "execution_count": 176,
   "metadata": {},
   "outputs": [
    {
     "name": "stdout",
     "output_type": "stream",
     "text": [
      "***************************Simulación 2***********************\n",
      "Parámetro lambda = 7.0\n",
      "Parámetro nu = 0.25\n",
      "Servidores s = 50\n",
      "Tiempo con igual o menor a 100 solicitudes en fila:\n",
      "\t 100.00%\n",
      "\t Sí cumple con la especificación.\n",
      "Simulación es equivalente a 4.82 horas.\n"
     ]
    },
    {
     "data": {
      "image/png": "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\n",
      "text/plain": [
       "<Figure size 432x288 with 1 Axes>"
      ]
     },
     "metadata": {
      "needs_background": "light"
     },
     "output_type": "display_data"
    }
   ],
   "source": [
    "# Número de simulación\n",
    "Simu = 2\n",
    "\n",
    "# Número de servidores obtenidos teóricamente para cumplir requerimientos\n",
    "s = 50\n",
    "\n",
    "# Se simula y comprueba resultado teórico\n",
    "comprobacion(Simu, N, lam, nu, s)"
   ]
  },
  {
   "cell_type": "markdown",
   "metadata": {},
   "source": [
    "Para tener éxito (cumplir los requerimientos) se debe cumplir $s \\geq 29$.\n",
    "\n",
    "##### **Simulación 3: SIN Éxito**  \n",
    "\n",
    "Servidores $s = 20$."
   ]
  },
  {
   "cell_type": "code",
   "execution_count": 177,
   "metadata": {},
   "outputs": [
    {
     "name": "stdout",
     "output_type": "stream",
     "text": [
      "***************************Simulación 3***********************\n",
      "Parámetro lambda = 7.0\n",
      "Parámetro nu = 0.25\n",
      "Servidores s = 20\n",
      "Tiempo con igual o menor a 100 solicitudes en fila:\n",
      "\t 21.77%\n",
      "\t No cumple con la especificación.\n",
      "Simulación es equivalente a 6.63 horas.\n"
     ]
    },
    {
     "data": {
      "image/png": "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\n",
      "text/plain": [
       "<Figure size 432x288 with 1 Axes>"
      ]
     },
     "metadata": {
      "needs_background": "light"
     },
     "output_type": "display_data"
    }
   ],
   "source": [
    "# Número de simulación\n",
    "Simu = 3\n",
    "\n",
    "# Número de servidores obtenidos teóricamente para NO cumplir requerimientos\n",
    "s = 20\n",
    "\n",
    "# Se simula y comprueba resultado teórico\n",
    "comprobacion(Simu, N, lam, nu, s)"
   ]
  },
  {
   "cell_type": "markdown",
   "metadata": {},
   "source": [
    "### Conclusiones\n",
    "\n",
    "- Se tiene una tasa de llegada de $\\lambda = 7$ personas por minuto y una tasa de servicio por cada servidor de $\\nu = 0.25$ personas por minuto. Con estos datos para lograr que el sistema no exceda 100 personas en fila durante el 95% del tiempo de servicio se debe tener una cantidad de servidores de $s \\geq 29$.\n",
    "\n",
    "- En la Simulación 1 y 2 se tuvo éxito en cumplir con los requerimientos, ya que se cumplió con la cantidad de servidores de $s \\geq 29$. En ambos casos el sistema no excedió las 100 personas en fila durante el 100% del tiempo del servicio. \n",
    "\n",
    "- En la Simulación 1 se utilizó un $s = 29$, obteniendo un pico de clientes en el sistema de aproximadamente 35, pero en la Simulación 2 al utilizar una cantidad de servidores mayor, $s = 50$, se obtuvo un pico de clientes en el sistema menor con un pico alrededor de 8 clientes. Esto debido que al tener mayor cantidad de servidores se atienden más clientes y por lo tanto la cola disminuye. \n",
    "\n",
    "- En la Simulación 3 no se tuvo éxito en cumplir con los requerimientos, ya que no se cumplió con la cantidad de servidores de $s \\geq 29$. En la Simulación 3 se utilizó un $s = 20$, obteniendo que solamente durante un 21.77% del tiempo del servicio no se excedieron las 100 personas en fila."
   ]
  },
  {
   "cell_type": "markdown",
   "metadata": {},
   "source": [
    "---\n",
    "\n",
    "**Universidad de Costa Rica**\n",
    "\n",
    "Facultad de Ingeniería\n",
    "\n",
    "Escuela de Ingeniería Eléctrica\n",
    "\n",
    "---"
   ]
  }
 ],
 "metadata": {
  "interpreter": {
   "hash": "cf58552290663b9b8e2aa2d620c2f4ae71c9372ad064f292f2898c2d3c10a60a"
  },
  "kernelspec": {
   "display_name": "Python 3",
   "language": "python",
   "name": "python3"
  },
  "language_info": {
   "codemirror_mode": {
    "name": "ipython",
    "version": 3
   },
   "file_extension": ".py",
   "mimetype": "text/x-python",
   "name": "python",
   "nbconvert_exporter": "python",
   "pygments_lexer": "ipython3",
   "version": "3.8.5"
  }
 },
 "nbformat": 4,
 "nbformat_minor": 2
}
